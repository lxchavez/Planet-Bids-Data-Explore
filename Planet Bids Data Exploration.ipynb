{
 "cells": [
  {
   "cell_type": "code",
   "execution_count": 183,
   "metadata": {
    "collapsed": false
   },
   "outputs": [],
   "source": [
    "import pandas as pd\n",
    "import numpy as np\n",
    "import matplotlib.pyplot as plt"
   ]
  },
  {
   "cell_type": "markdown",
   "metadata": {},
   "source": [
    "** Render matplotlib charts in the notebook **"
   ]
  },
  {
   "cell_type": "code",
   "execution_count": 184,
   "metadata": {
    "collapsed": true
   },
   "outputs": [],
   "source": [
    "%matplotlib inline"
   ]
  },
  {
   "cell_type": "markdown",
   "metadata": {},
   "source": [
    "# Planet Bids Data Exploration"
   ]
  },
  {
   "cell_type": "markdown",
   "metadata": {},
   "source": [
    "## Questions this analysis will address\n",
    "\n",
    "1. Who are the vendors? What type of businesses bid?\n",
    "2. Where are the vendors from?\n",
    "3. Any trends in registration over time?\n",
    "\n",
    "## Additional data & questions\n",
    "\n",
    "Additional information as far as how many times a vendor has bidded, if they were awarded bids and when, etc. can only be answered if we ask the Planet Bids technical team for some data. "
   ]
  },
  {
   "cell_type": "markdown",
   "metadata": {},
   "source": [
    "## Import CSV file provided by Jason MacDonald"
   ]
  },
  {
   "cell_type": "markdown",
   "metadata": {},
   "source": [
    "** Note that this is a sample file of 1k bidders. There are 17k+ total. **"
   ]
  },
  {
   "cell_type": "code",
   "execution_count": 185,
   "metadata": {
    "collapsed": true
   },
   "outputs": [],
   "source": [
    "pb = pd.read_csv('data/Planet_Bids_Vendors.csv')"
   ]
  },
  {
   "cell_type": "code",
   "execution_count": 186,
   "metadata": {
    "collapsed": false,
    "scrolled": true
   },
   "outputs": [
    {
     "data": {
      "text/html": [
       "<div>\n",
       "<table border=\"1\" class=\"dataframe\">\n",
       "  <thead>\n",
       "    <tr style=\"text-align: right;\">\n",
       "      <th></th>\n",
       "      <th>Company Name</th>\n",
       "      <th>FEI/TaxID Number</th>\n",
       "      <th>DBA</th>\n",
       "      <th>Address</th>\n",
       "      <th>City</th>\n",
       "      <th>State</th>\n",
       "      <th>Zip</th>\n",
       "      <th>Country</th>\n",
       "      <th>Contact</th>\n",
       "      <th>Email</th>\n",
       "      <th>Phone</th>\n",
       "      <th>Fax</th>\n",
       "      <th>Register Date</th>\n",
       "      <th>Business Type</th>\n",
       "      <th>Commodity Codes</th>\n",
       "      <th>Additional Desc</th>\n",
       "      <th>Comments</th>\n",
       "    </tr>\n",
       "  </thead>\n",
       "  <tbody>\n",
       "    <tr>\n",
       "      <th>0</th>\n",
       "      <td>ddddddddddddd</td>\n",
       "      <td>252546586</td>\n",
       "      <td>ddddddddddd</td>\n",
       "      <td>dddddddddd dddddddddddd</td>\n",
       "      <td>dddddddddddd</td>\n",
       "      <td>Iowa</td>\n",
       "      <td>78241</td>\n",
       "      <td>United States</td>\n",
       "      <td>remove us please</td>\n",
       "      <td>pete@cox.net</td>\n",
       "      <td>949-555-1212 ext. 1</td>\n",
       "      <td>NaN</td>\n",
       "      <td>8/8/12</td>\n",
       "      <td>NaN</td>\n",
       "      <td>16000-Professional, Scientific, Architectural,...</td>\n",
       "      <td>Veterinary Specialty practice</td>\n",
       "      <td>NaN</td>\n",
       "    </tr>\n",
       "    <tr>\n",
       "      <th>1</th>\n",
       "      <td>G&amp;G Electric Inc.</td>\n",
       "      <td>10947473</td>\n",
       "      <td>NaN</td>\n",
       "      <td>4229 Giles Ct.</td>\n",
       "      <td>Riverside</td>\n",
       "      <td>California</td>\n",
       "      <td>92503</td>\n",
       "      <td>United States</td>\n",
       "      <td>Gilberto Chavez</td>\n",
       "      <td>chvz_glbrt@yahoo.com</td>\n",
       "      <td>951-572-0196</td>\n",
       "      <td>951-689-2694</td>\n",
       "      <td>12/20/13</td>\n",
       "      <td>NaN</td>\n",
       "      <td>60000-Construction, Structures/Materials &amp; Sup...</td>\n",
       "      <td>Electrical Subcontractors</td>\n",
       "      <td>NaN</td>\n",
       "    </tr>\n",
       "    <tr>\n",
       "      <th>2</th>\n",
       "      <td>\"A Quick Note\"</td>\n",
       "      <td>556577390</td>\n",
       "      <td>A QUICK NOTE</td>\n",
       "      <td>P.O. Box 1275</td>\n",
       "      <td>Lake Forest</td>\n",
       "      <td>California</td>\n",
       "      <td>92609-1275</td>\n",
       "      <td>United States</td>\n",
       "      <td>Shannon Ziccardi</td>\n",
       "      <td>aquicknote.notary@gmail.com</td>\n",
       "      <td>949-279-6874</td>\n",
       "      <td>714-242-1789</td>\n",
       "      <td>3/13/14</td>\n",
       "      <td>NaN</td>\n",
       "      <td>16000-Professional, Scientific, Architectural,...</td>\n",
       "      <td>Mobile Notary Public providing service to All ...</td>\n",
       "      <td>NaN</td>\n",
       "    </tr>\n",
       "    <tr>\n",
       "      <th>3</th>\n",
       "      <td>( iii ) DESIGN</td>\n",
       "      <td>201415592</td>\n",
       "      <td>NaN</td>\n",
       "      <td>811 El Captian Way Suite 130</td>\n",
       "      <td>San Luis Obispo</td>\n",
       "      <td>California</td>\n",
       "      <td>93401</td>\n",
       "      <td>United States</td>\n",
       "      <td>NaN</td>\n",
       "      <td>missy@iiidesign.com</td>\n",
       "      <td>805-595-1363 ext.</td>\n",
       "      <td>--</td>\n",
       "      <td>3/16/12</td>\n",
       "      <td>WBE</td>\n",
       "      <td>23000-Technology Hardware/Software and Services</td>\n",
       "      <td>branding, print and web design studio that als...</td>\n",
       "      <td>NaN</td>\n",
       "    </tr>\n",
       "    <tr>\n",
       "      <th>4</th>\n",
       "      <td>(W)right On Communications, Inc.</td>\n",
       "      <td>262211971</td>\n",
       "      <td>NaN</td>\n",
       "      <td>674 Via de la Valle, Suite 300</td>\n",
       "      <td>Solana Beach</td>\n",
       "      <td>California</td>\n",
       "      <td>92075</td>\n",
       "      <td>United States</td>\n",
       "      <td>Chris Jensen</td>\n",
       "      <td>cjensen@wrightoncomm.com</td>\n",
       "      <td>503-459-6464</td>\n",
       "      <td>NaN</td>\n",
       "      <td>4/21/15</td>\n",
       "      <td>OSB</td>\n",
       "      <td>16000-Professional, Scientific, Architectural,...</td>\n",
       "      <td>We're a full-spectrum communications agency sp...</td>\n",
       "      <td>NaN</td>\n",
       "    </tr>\n",
       "  </tbody>\n",
       "</table>\n",
       "</div>"
      ],
      "text/plain": [
       "                       Company Name  FEI/TaxID Number           DBA  \\\n",
       "0                     ddddddddddddd         252546586   ddddddddddd   \n",
       "1                 G&G Electric Inc.          10947473           NaN   \n",
       "2                    \"A Quick Note\"         556577390  A QUICK NOTE   \n",
       "3                    ( iii ) DESIGN         201415592           NaN   \n",
       "4  (W)right On Communications, Inc.         262211971           NaN   \n",
       "\n",
       "                          Address             City       State         Zip  \\\n",
       "0         dddddddddd dddddddddddd     dddddddddddd        Iowa       78241   \n",
       "1                  4229 Giles Ct.        Riverside  California       92503   \n",
       "2                   P.O. Box 1275      Lake Forest  California  92609-1275   \n",
       "3    811 El Captian Way Suite 130  San Luis Obispo  California       93401   \n",
       "4  674 Via de la Valle, Suite 300     Solana Beach  California       92075   \n",
       "\n",
       "         Country           Contact                        Email  \\\n",
       "0  United States  remove us please                 pete@cox.net   \n",
       "1  United States   Gilberto Chavez         chvz_glbrt@yahoo.com   \n",
       "2  United States  Shannon Ziccardi  aquicknote.notary@gmail.com   \n",
       "3  United States               NaN          missy@iiidesign.com   \n",
       "4  United States      Chris Jensen     cjensen@wrightoncomm.com   \n",
       "\n",
       "                 Phone           Fax Register Date Business Type  \\\n",
       "0  949-555-1212 ext. 1           NaN        8/8/12           NaN   \n",
       "1         951-572-0196  951-689-2694      12/20/13           NaN   \n",
       "2         949-279-6874  714-242-1789       3/13/14           NaN   \n",
       "3    805-595-1363 ext.            --       3/16/12           WBE   \n",
       "4         503-459-6464           NaN       4/21/15           OSB   \n",
       "\n",
       "                                     Commodity Codes  \\\n",
       "0  16000-Professional, Scientific, Architectural,...   \n",
       "1  60000-Construction, Structures/Materials & Sup...   \n",
       "2  16000-Professional, Scientific, Architectural,...   \n",
       "3  23000-Technology Hardware/Software and Services     \n",
       "4  16000-Professional, Scientific, Architectural,...   \n",
       "\n",
       "                                     Additional Desc  Comments  \n",
       "0                      Veterinary Specialty practice       NaN  \n",
       "1                          Electrical Subcontractors       NaN  \n",
       "2  Mobile Notary Public providing service to All ...       NaN  \n",
       "3  branding, print and web design studio that als...       NaN  \n",
       "4  We're a full-spectrum communications agency sp...       NaN  "
      ]
     },
     "execution_count": 186,
     "metadata": {},
     "output_type": "execute_result"
    }
   ],
   "source": [
    "pb.head()"
   ]
  },
  {
   "cell_type": "markdown",
   "metadata": {},
   "source": [
    "## Cleanup 'Commodity Codes' and 'Business Type' columns"
   ]
  },
  {
   "cell_type": "code",
   "execution_count": 187,
   "metadata": {
    "collapsed": true
   },
   "outputs": [],
   "source": [
    "import re"
   ]
  },
  {
   "cell_type": "code",
   "execution_count": 188,
   "metadata": {
    "collapsed": true
   },
   "outputs": [],
   "source": [
    "def split_string_by(sep, x):\n",
    "    return ''.join(s.strip() + '|' for s in re.split(sep, x) if s != '' and s != None)[:-1]\n",
    "def split_commodity_codes(x):\n",
    "    if type(x) is str:\n",
    "        return split_string_by('\\d*-', x)\n",
    "def split_business_type(x):\n",
    "    if type(x) is str:\n",
    "        return split_string_by(',', x)"
   ]
  },
  {
   "cell_type": "code",
   "execution_count": 189,
   "metadata": {
    "collapsed": false
   },
   "outputs": [],
   "source": [
    "pb['Commodity Codes'] = pb['Commodity Codes'].apply(lambda x: split_commodity_codes(x))"
   ]
  },
  {
   "cell_type": "code",
   "execution_count": 190,
   "metadata": {
    "collapsed": true
   },
   "outputs": [],
   "source": [
    "pb['Business Type'] = pb['Business Type'].apply(lambda x: split_business_type(x))"
   ]
  },
  {
   "cell_type": "markdown",
   "metadata": {},
   "source": [
    "## Get the year from Register Date"
   ]
  },
  {
   "cell_type": "code",
   "execution_count": 191,
   "metadata": {
    "collapsed": true
   },
   "outputs": [],
   "source": [
    "import datetime"
   ]
  },
  {
   "cell_type": "code",
   "execution_count": 192,
   "metadata": {
    "collapsed": true
   },
   "outputs": [],
   "source": [
    "def get_year_from_date(d):\n",
    "    return datetime.datetime.strptime(d, '%m/%d/%y').date().year"
   ]
  },
  {
   "cell_type": "code",
   "execution_count": 193,
   "metadata": {
    "collapsed": false
   },
   "outputs": [],
   "source": [
    "pb['Register Year'] = pb['Register Date'].apply(lambda d: get_year_from_date(d))"
   ]
  },
  {
   "cell_type": "markdown",
   "metadata": {},
   "source": [
    "## Turn blanks, none, and nulls into \"Unknown\" "
   ]
  },
  {
   "cell_type": "code",
   "execution_count": 194,
   "metadata": {
    "collapsed": true
   },
   "outputs": [],
   "source": [
    "def sanitize_unknown(s):\n",
    "    if type(s) is str and (s == None or s == '' or s.lower() == 'none'):\n",
    "        s = s.strip()\n",
    "        s = 'Unknown'\n",
    "    return s"
   ]
  },
  {
   "cell_type": "code",
   "execution_count": 195,
   "metadata": {
    "collapsed": false
   },
   "outputs": [],
   "source": [
    "pb['Commodity Codes'] = pb['Commodity Codes'].apply(lambda c: sanitize_unknown(c))\n",
    "pb['Business Type'] = pb['Business Type'].apply(lambda c: sanitize_unknown(c))"
   ]
  },
  {
   "cell_type": "code",
   "execution_count": 196,
   "metadata": {
    "collapsed": true
   },
   "outputs": [],
   "source": [
    "pb['Commodity Codes'] = pb['Commodity Codes'].fillna('Unknown')\n",
    "pb['Business Type'] = pb['Business Type'].fillna('Unknown')"
   ]
  },
  {
   "cell_type": "markdown",
   "metadata": {},
   "source": [
    "## Clean up city names!"
   ]
  },
  {
   "cell_type": "markdown",
   "metadata": {},
   "source": [
    "We are cleaning these up since City names are entered inconsistently! Ugh."
   ]
  },
  {
   "cell_type": "code",
   "execution_count": 197,
   "metadata": {
    "collapsed": true
   },
   "outputs": [],
   "source": [
    "def sanitize_city_name(c):\n",
    "    new_city = c.lower()\n",
    "    new_city = new_city.replace(',' , '')\n",
    "    new_city = new_city.replace('ca' , '')\n",
    "    new_city = new_city.replace('california' , '')\n",
    "    new_city = new_city.strip()\n",
    "    return new_city"
   ]
  },
  {
   "cell_type": "code",
   "execution_count": 198,
   "metadata": {
    "collapsed": true
   },
   "outputs": [],
   "source": [
    "pb['City'] = pb['City'].apply(lambda c: sanitize_city_name(c))"
   ]
  },
  {
   "cell_type": "markdown",
   "metadata": {},
   "source": [
    "## Add a column to quickly filter vendors that are not in Long Beach"
   ]
  },
  {
   "cell_type": "code",
   "execution_count": 199,
   "metadata": {
    "collapsed": true
   },
   "outputs": [],
   "source": [
    "pb['In Long Beach?'] = pb['City'].apply(lambda c: c.lower() == 'long beach')"
   ]
  },
  {
   "cell_type": "markdown",
   "metadata": {},
   "source": [
    "## Create new data frames for Commodity Codes and Business Type for manipulation"
   ]
  },
  {
   "cell_type": "code",
   "execution_count": 200,
   "metadata": {
    "collapsed": true
   },
   "outputs": [],
   "source": [
    "commodity_df = pb.copy(deep=True)"
   ]
  },
  {
   "cell_type": "code",
   "execution_count": 201,
   "metadata": {
    "collapsed": true
   },
   "outputs": [],
   "source": [
    "business_df = pb.copy(deep=True)"
   ]
  },
  {
   "cell_type": "markdown",
   "metadata": {},
   "source": [
    "## Let's look at Commodity Codes"
   ]
  },
  {
   "cell_type": "markdown",
   "metadata": {},
   "source": [
    "### Split Commodity Code into multiple rows"
   ]
  },
  {
   "cell_type": "code",
   "execution_count": 202,
   "metadata": {
    "collapsed": false,
    "scrolled": true
   },
   "outputs": [],
   "source": [
    "s = commodity_df['Commodity Codes'].str.split('|').apply(pd.Series, 1).stack()\n",
    "s.index = s.index.droplevel(-1) # to line up with dataframe's index\n",
    "s.name = 'Commodity Codes' # needs a name to join"
   ]
  },
  {
   "cell_type": "code",
   "execution_count": 203,
   "metadata": {
    "collapsed": false
   },
   "outputs": [],
   "source": [
    "del commodity_df['Commodity Codes']\n",
    "commodity_df = commodity_df.join(s)"
   ]
  },
  {
   "cell_type": "markdown",
   "metadata": {},
   "source": [
    "### Reset the index of our dataframe as there are now duplicate indexes from the previous action"
   ]
  },
  {
   "cell_type": "code",
   "execution_count": 204,
   "metadata": {
    "collapsed": false
   },
   "outputs": [],
   "source": [
    "commodity_df = commodity_df.reset_index()"
   ]
  },
  {
   "cell_type": "code",
   "execution_count": 205,
   "metadata": {
    "collapsed": true
   },
   "outputs": [],
   "source": [
    "del commodity_df['index']"
   ]
  },
  {
   "cell_type": "code",
   "execution_count": 206,
   "metadata": {
    "collapsed": false
   },
   "outputs": [
    {
     "data": {
      "text/html": [
       "<div>\n",
       "<table border=\"1\" class=\"dataframe\">\n",
       "  <thead>\n",
       "    <tr style=\"text-align: right;\">\n",
       "      <th></th>\n",
       "      <th>Company Name</th>\n",
       "      <th>FEI/TaxID Number</th>\n",
       "      <th>DBA</th>\n",
       "      <th>Address</th>\n",
       "      <th>City</th>\n",
       "      <th>State</th>\n",
       "      <th>Zip</th>\n",
       "      <th>Country</th>\n",
       "      <th>Contact</th>\n",
       "      <th>Email</th>\n",
       "      <th>Phone</th>\n",
       "      <th>Fax</th>\n",
       "      <th>Register Date</th>\n",
       "      <th>Business Type</th>\n",
       "      <th>Additional Desc</th>\n",
       "      <th>Comments</th>\n",
       "      <th>Register Year</th>\n",
       "      <th>In Long Beach?</th>\n",
       "      <th>Commodity Codes</th>\n",
       "    </tr>\n",
       "  </thead>\n",
       "  <tbody>\n",
       "    <tr>\n",
       "      <th>0</th>\n",
       "      <td>ddddddddddddd</td>\n",
       "      <td>252546586</td>\n",
       "      <td>ddddddddddd</td>\n",
       "      <td>dddddddddd dddddddddddd</td>\n",
       "      <td>dddddddddddd</td>\n",
       "      <td>Iowa</td>\n",
       "      <td>78241</td>\n",
       "      <td>United States</td>\n",
       "      <td>remove us please</td>\n",
       "      <td>pete@cox.net</td>\n",
       "      <td>949-555-1212 ext. 1</td>\n",
       "      <td>NaN</td>\n",
       "      <td>8/8/12</td>\n",
       "      <td>Unknown</td>\n",
       "      <td>Veterinary Specialty practice</td>\n",
       "      <td>NaN</td>\n",
       "      <td>2012</td>\n",
       "      <td>False</td>\n",
       "      <td>Professional, Scientific, Architectural, Techn...</td>\n",
       "    </tr>\n",
       "    <tr>\n",
       "      <th>1</th>\n",
       "      <td>G&amp;G Electric Inc.</td>\n",
       "      <td>10947473</td>\n",
       "      <td>NaN</td>\n",
       "      <td>4229 Giles Ct.</td>\n",
       "      <td>riverside</td>\n",
       "      <td>California</td>\n",
       "      <td>92503</td>\n",
       "      <td>United States</td>\n",
       "      <td>Gilberto Chavez</td>\n",
       "      <td>chvz_glbrt@yahoo.com</td>\n",
       "      <td>951-572-0196</td>\n",
       "      <td>951-689-2694</td>\n",
       "      <td>12/20/13</td>\n",
       "      <td>Unknown</td>\n",
       "      <td>Electrical Subcontractors</td>\n",
       "      <td>NaN</td>\n",
       "      <td>2013</td>\n",
       "      <td>False</td>\n",
       "      <td>Construction, Structures/Materials &amp; Supplies</td>\n",
       "    </tr>\n",
       "    <tr>\n",
       "      <th>2</th>\n",
       "      <td>\"A Quick Note\"</td>\n",
       "      <td>556577390</td>\n",
       "      <td>A QUICK NOTE</td>\n",
       "      <td>P.O. Box 1275</td>\n",
       "      <td>lake forest</td>\n",
       "      <td>California</td>\n",
       "      <td>92609-1275</td>\n",
       "      <td>United States</td>\n",
       "      <td>Shannon Ziccardi</td>\n",
       "      <td>aquicknote.notary@gmail.com</td>\n",
       "      <td>949-279-6874</td>\n",
       "      <td>714-242-1789</td>\n",
       "      <td>3/13/14</td>\n",
       "      <td>Unknown</td>\n",
       "      <td>Mobile Notary Public providing service to All ...</td>\n",
       "      <td>NaN</td>\n",
       "      <td>2014</td>\n",
       "      <td>False</td>\n",
       "      <td>Professional, Scientific, Architectural, Techn...</td>\n",
       "    </tr>\n",
       "    <tr>\n",
       "      <th>3</th>\n",
       "      <td>( iii ) DESIGN</td>\n",
       "      <td>201415592</td>\n",
       "      <td>NaN</td>\n",
       "      <td>811 El Captian Way Suite 130</td>\n",
       "      <td>san luis obispo</td>\n",
       "      <td>California</td>\n",
       "      <td>93401</td>\n",
       "      <td>United States</td>\n",
       "      <td>NaN</td>\n",
       "      <td>missy@iiidesign.com</td>\n",
       "      <td>805-595-1363 ext.</td>\n",
       "      <td>--</td>\n",
       "      <td>3/16/12</td>\n",
       "      <td>WBE</td>\n",
       "      <td>branding, print and web design studio that als...</td>\n",
       "      <td>NaN</td>\n",
       "      <td>2012</td>\n",
       "      <td>False</td>\n",
       "      <td>Technology Hardware/Software and Services</td>\n",
       "    </tr>\n",
       "    <tr>\n",
       "      <th>4</th>\n",
       "      <td>(W)right On Communications, Inc.</td>\n",
       "      <td>262211971</td>\n",
       "      <td>NaN</td>\n",
       "      <td>674 Via de la Valle, Suite 300</td>\n",
       "      <td>solana beach</td>\n",
       "      <td>California</td>\n",
       "      <td>92075</td>\n",
       "      <td>United States</td>\n",
       "      <td>Chris Jensen</td>\n",
       "      <td>cjensen@wrightoncomm.com</td>\n",
       "      <td>503-459-6464</td>\n",
       "      <td>NaN</td>\n",
       "      <td>4/21/15</td>\n",
       "      <td>OSB</td>\n",
       "      <td>We're a full-spectrum communications agency sp...</td>\n",
       "      <td>NaN</td>\n",
       "      <td>2015</td>\n",
       "      <td>False</td>\n",
       "      <td>Professional, Scientific, Architectural, Techn...</td>\n",
       "    </tr>\n",
       "    <tr>\n",
       "      <th>5</th>\n",
       "      <td>1 Plus One management, Inc</td>\n",
       "      <td>204924375</td>\n",
       "      <td>same</td>\n",
       "      <td>3622 Mount Vernon Drive suite 101</td>\n",
       "      <td>los angeles</td>\n",
       "      <td>California</td>\n",
       "      <td>90008</td>\n",
       "      <td>United States</td>\n",
       "      <td>jerrold smith</td>\n",
       "      <td>jerrold@1plusonemanagement.com</td>\n",
       "      <td>323-292-8404</td>\n",
       "      <td>323-292-6196</td>\n",
       "      <td>8/4/14</td>\n",
       "      <td>OSB|DBE|MBE</td>\n",
       "      <td>Marketing, Advertising and Community Outreach ...</td>\n",
       "      <td>NaN</td>\n",
       "      <td>2014</td>\n",
       "      <td>False</td>\n",
       "      <td>Office Supplies, Paper, Printing</td>\n",
       "    </tr>\n",
       "    <tr>\n",
       "      <th>6</th>\n",
       "      <td>1 Plus One management, Inc</td>\n",
       "      <td>204924375</td>\n",
       "      <td>same</td>\n",
       "      <td>3622 Mount Vernon Drive suite 101</td>\n",
       "      <td>los angeles</td>\n",
       "      <td>California</td>\n",
       "      <td>90008</td>\n",
       "      <td>United States</td>\n",
       "      <td>jerrold smith</td>\n",
       "      <td>jerrold@1plusonemanagement.com</td>\n",
       "      <td>323-292-8404</td>\n",
       "      <td>323-292-6196</td>\n",
       "      <td>8/4/14</td>\n",
       "      <td>OSB|DBE|MBE</td>\n",
       "      <td>Marketing, Advertising and Community Outreach ...</td>\n",
       "      <td>NaN</td>\n",
       "      <td>2014</td>\n",
       "      <td>False</td>\n",
       "      <td>Sporting, Arts, Music Products and Services</td>\n",
       "    </tr>\n",
       "    <tr>\n",
       "      <th>7</th>\n",
       "      <td>1 Stop Pool Supply</td>\n",
       "      <td>454674838</td>\n",
       "      <td>1 Stop Pool Supply</td>\n",
       "      <td>26479 Rancho Parkway S.</td>\n",
       "      <td>lake forest</td>\n",
       "      <td>California</td>\n",
       "      <td>92630</td>\n",
       "      <td>United States</td>\n",
       "      <td>Joseph Delzingaro</td>\n",
       "      <td>joe@1stioppoolsupply.com</td>\n",
       "      <td>866-384-7665</td>\n",
       "      <td>NaN</td>\n",
       "      <td>9/19/13</td>\n",
       "      <td>Unknown</td>\n",
       "      <td>Supplier of swimming pool and related products...</td>\n",
       "      <td>NaN</td>\n",
       "      <td>2013</td>\n",
       "      <td>False</td>\n",
       "      <td>Safety Equipment and Supplies</td>\n",
       "    </tr>\n",
       "    <tr>\n",
       "      <th>8</th>\n",
       "      <td>1 Stop Pool Supply</td>\n",
       "      <td>454674838</td>\n",
       "      <td>1 Stop Pool Supply</td>\n",
       "      <td>26479 Rancho Parkway S.</td>\n",
       "      <td>lake forest</td>\n",
       "      <td>California</td>\n",
       "      <td>92630</td>\n",
       "      <td>United States</td>\n",
       "      <td>Joseph Delzingaro</td>\n",
       "      <td>joe@1stioppoolsupply.com</td>\n",
       "      <td>866-384-7665</td>\n",
       "      <td>NaN</td>\n",
       "      <td>9/19/13</td>\n",
       "      <td>Unknown</td>\n",
       "      <td>Supplier of swimming pool and related products...</td>\n",
       "      <td>NaN</td>\n",
       "      <td>2013</td>\n",
       "      <td>False</td>\n",
       "      <td>Sporting, Arts, Music Products and Services</td>\n",
       "    </tr>\n",
       "    <tr>\n",
       "      <th>9</th>\n",
       "      <td>1 Stop Pool Supply</td>\n",
       "      <td>454674838</td>\n",
       "      <td>1 Stop Pool Supply</td>\n",
       "      <td>26479 Rancho Parkway S.</td>\n",
       "      <td>lake forest</td>\n",
       "      <td>California</td>\n",
       "      <td>92630</td>\n",
       "      <td>United States</td>\n",
       "      <td>Joseph Delzingaro</td>\n",
       "      <td>joe@1stioppoolsupply.com</td>\n",
       "      <td>866-384-7665</td>\n",
       "      <td>NaN</td>\n",
       "      <td>9/19/13</td>\n",
       "      <td>Unknown</td>\n",
       "      <td>Supplier of swimming pool and related products...</td>\n",
       "      <td>NaN</td>\n",
       "      <td>2013</td>\n",
       "      <td>False</td>\n",
       "      <td>Chemicals (All Products, Services, incl testing)</td>\n",
       "    </tr>\n",
       "  </tbody>\n",
       "</table>\n",
       "</div>"
      ],
      "text/plain": [
       "                       Company Name  FEI/TaxID Number                 DBA  \\\n",
       "0                     ddddddddddddd         252546586         ddddddddddd   \n",
       "1                 G&G Electric Inc.          10947473                 NaN   \n",
       "2                    \"A Quick Note\"         556577390        A QUICK NOTE   \n",
       "3                    ( iii ) DESIGN         201415592                 NaN   \n",
       "4  (W)right On Communications, Inc.         262211971                 NaN   \n",
       "5        1 Plus One management, Inc         204924375                same   \n",
       "6        1 Plus One management, Inc         204924375                same   \n",
       "7                1 Stop Pool Supply         454674838  1 Stop Pool Supply   \n",
       "8                1 Stop Pool Supply         454674838  1 Stop Pool Supply   \n",
       "9                1 Stop Pool Supply         454674838  1 Stop Pool Supply   \n",
       "\n",
       "                             Address             City       State         Zip  \\\n",
       "0            dddddddddd dddddddddddd     dddddddddddd        Iowa       78241   \n",
       "1                     4229 Giles Ct.        riverside  California       92503   \n",
       "2                      P.O. Box 1275      lake forest  California  92609-1275   \n",
       "3       811 El Captian Way Suite 130  san luis obispo  California       93401   \n",
       "4     674 Via de la Valle, Suite 300     solana beach  California       92075   \n",
       "5  3622 Mount Vernon Drive suite 101      los angeles  California       90008   \n",
       "6  3622 Mount Vernon Drive suite 101      los angeles  California       90008   \n",
       "7            26479 Rancho Parkway S.      lake forest  California       92630   \n",
       "8            26479 Rancho Parkway S.      lake forest  California       92630   \n",
       "9            26479 Rancho Parkway S.      lake forest  California       92630   \n",
       "\n",
       "         Country            Contact                           Email  \\\n",
       "0  United States   remove us please                    pete@cox.net   \n",
       "1  United States    Gilberto Chavez            chvz_glbrt@yahoo.com   \n",
       "2  United States   Shannon Ziccardi     aquicknote.notary@gmail.com   \n",
       "3  United States                NaN             missy@iiidesign.com   \n",
       "4  United States       Chris Jensen        cjensen@wrightoncomm.com   \n",
       "5  United States      jerrold smith  jerrold@1plusonemanagement.com   \n",
       "6  United States      jerrold smith  jerrold@1plusonemanagement.com   \n",
       "7  United States  Joseph Delzingaro        joe@1stioppoolsupply.com   \n",
       "8  United States  Joseph Delzingaro        joe@1stioppoolsupply.com   \n",
       "9  United States  Joseph Delzingaro        joe@1stioppoolsupply.com   \n",
       "\n",
       "                 Phone           Fax Register Date Business Type  \\\n",
       "0  949-555-1212 ext. 1           NaN        8/8/12       Unknown   \n",
       "1         951-572-0196  951-689-2694      12/20/13       Unknown   \n",
       "2         949-279-6874  714-242-1789       3/13/14       Unknown   \n",
       "3    805-595-1363 ext.            --       3/16/12           WBE   \n",
       "4         503-459-6464           NaN       4/21/15           OSB   \n",
       "5         323-292-8404  323-292-6196        8/4/14   OSB|DBE|MBE   \n",
       "6         323-292-8404  323-292-6196        8/4/14   OSB|DBE|MBE   \n",
       "7         866-384-7665           NaN       9/19/13       Unknown   \n",
       "8         866-384-7665           NaN       9/19/13       Unknown   \n",
       "9         866-384-7665           NaN       9/19/13       Unknown   \n",
       "\n",
       "                                     Additional Desc  Comments  Register Year  \\\n",
       "0                      Veterinary Specialty practice       NaN           2012   \n",
       "1                          Electrical Subcontractors       NaN           2013   \n",
       "2  Mobile Notary Public providing service to All ...       NaN           2014   \n",
       "3  branding, print and web design studio that als...       NaN           2012   \n",
       "4  We're a full-spectrum communications agency sp...       NaN           2015   \n",
       "5  Marketing, Advertising and Community Outreach ...       NaN           2014   \n",
       "6  Marketing, Advertising and Community Outreach ...       NaN           2014   \n",
       "7  Supplier of swimming pool and related products...       NaN           2013   \n",
       "8  Supplier of swimming pool and related products...       NaN           2013   \n",
       "9  Supplier of swimming pool and related products...       NaN           2013   \n",
       "\n",
       "  In Long Beach?                                    Commodity Codes  \n",
       "0          False  Professional, Scientific, Architectural, Techn...  \n",
       "1          False      Construction, Structures/Materials & Supplies  \n",
       "2          False  Professional, Scientific, Architectural, Techn...  \n",
       "3          False          Technology Hardware/Software and Services  \n",
       "4          False  Professional, Scientific, Architectural, Techn...  \n",
       "5          False                   Office Supplies, Paper, Printing  \n",
       "6          False        Sporting, Arts, Music Products and Services  \n",
       "7          False                      Safety Equipment and Supplies  \n",
       "8          False        Sporting, Arts, Music Products and Services  \n",
       "9          False   Chemicals (All Products, Services, incl testing)  "
      ]
     },
     "execution_count": 206,
     "metadata": {},
     "output_type": "execute_result"
    }
   ],
   "source": [
    "commodity_df.head(10)"
   ]
  },
  {
   "cell_type": "markdown",
   "metadata": {},
   "source": [
    "## What do the Commodity Codes look like?"
   ]
  },
  {
   "cell_type": "code",
   "execution_count": 207,
   "metadata": {
    "collapsed": false
   },
   "outputs": [],
   "source": [
    "commodity_codes_count = commodity_df['Commodity Codes'].value_counts()\n",
    "commodity_codes_keys = commodity_df['Commodity Codes'].value_counts().keys()"
   ]
  },
  {
   "cell_type": "markdown",
   "metadata": {},
   "source": [
    "### Plot Commodity Codes count distribution"
   ]
  },
  {
   "cell_type": "code",
   "execution_count": 208,
   "metadata": {
    "collapsed": false
   },
   "outputs": [
    {
     "data": {
      "text/plain": [
       "Unknown                                                            347\n",
       "Construction, Structures/Materials & Supplies                      194\n",
       "Professional, Scientific, Architectural, Technical Services        173\n",
       "Technology Hardware/Software and Services                          119\n",
       "Civil Engineering Construction / Materials                          91\n",
       "Building Maintenance, Janitorial                                    74\n",
       "Homeland Security Products and Services                             72\n",
       "Safety Equipment and Supplies                                       69\n",
       "Office Supplies, Paper, Printing                                    57\n",
       "Landscaping and Gardening Products and Services                     39\n",
       "Transportation Services                                             36\n",
       "Rental and Lease Services                                           34\n",
       "Automotive Parts, Services                                          32\n",
       "Sporting, Arts, Music Products and Services                         32\n",
       "Furniture and Furnishing Products and Services                      30\n",
       "Chemicals (All Products, Services, incl testing)                    30\n",
       "Clothing, Apparel, Uniform and Accessories                          28\n",
       "Marina Products/Services                                            21\n",
       "Fuel, Oil and Other Products and Services                           18\n",
       "Humane Related Supplies/Equipment/Services                          16\n",
       "Recycling Services and Products                                     14\n",
       "Year End Group                                                      13\n",
       "Food Services                                                       11\n",
       "Library Books and Related Services                                   6\n",
       "Service station equipment installation and maintenance services      2\n",
       "Security Services (All products and services)                        1\n",
       "Name: Commodity Codes, dtype: int64"
      ]
     },
     "execution_count": 208,
     "metadata": {},
     "output_type": "execute_result"
    }
   ],
   "source": [
    "commodity_codes_count"
   ]
  },
  {
   "cell_type": "code",
   "execution_count": 209,
   "metadata": {
    "collapsed": false
   },
   "outputs": [
    {
     "data": {
      "image/png": "[encoded data removed]",
      "text/plain": [
       "<matplotlib.figure.Figure at 0x1126af250>"
      ]
     },
     "metadata": {},
     "output_type": "display_data"
    }
   ],
   "source": [
    "y_pos = np.arange(len(commodity_codes_keys))\n",
    "\n",
    "plt.barh(y_pos, commodity_codes_count, alpha=0.4)\n",
    "plt.yticks(y_pos, commodity_codes_keys)\n",
    "plt.title('Commodity Codes Count Distribution')\n",
    "plt.tight_layout()\n",
    "\n",
    "plt.show()"
   ]
  },
  {
   "cell_type": "markdown",
   "metadata": {},
   "source": [
    "## What do the Business Types look like?"
   ]
  },
  {
   "cell_type": "markdown",
   "metadata": {},
   "source": [
    "Let's do some cleanup first..."
   ]
  },
  {
   "cell_type": "code",
   "execution_count": 210,
   "metadata": {
    "collapsed": true
   },
   "outputs": [],
   "source": [
    "# Split Business Type column values into multiple rows\n",
    "s = business_df['Business Type'].str.split('|').apply(pd.Series, 1).stack()\n",
    "s.index = s.index.droplevel(-1) # to line up with dataframe's index\n",
    "s.name = 'Business Type' # needs a name to join\n",
    "\n",
    "# Update Dataframe\n",
    "del business_df['Business Type']\n",
    "business_df = business_df.join(s)\n",
    "\n",
    "# Reset Dataframe's index\n",
    "business_df = business_df.reset_index()\n",
    "del business_df['index']"
   ]
  },
  {
   "cell_type": "markdown",
   "metadata": {},
   "source": [
    "### Plot Business Type count distribution"
   ]
  },
  {
   "cell_type": "code",
   "execution_count": 211,
   "metadata": {
    "collapsed": true
   },
   "outputs": [],
   "source": [
    "business_type_count = business_df['Business Type'].value_counts()\n",
    "business_type_keys = business_df['Business Type'].value_counts().keys()"
   ]
  },
  {
   "cell_type": "code",
   "execution_count": 212,
   "metadata": {
    "collapsed": false
   },
   "outputs": [
    {
     "data": {
      "text/plain": [
       "Unknown    512\n",
       "LBSBE      230\n",
       "OSB        199\n",
       "MBE        178\n",
       "WBE        128\n",
       "FSB         63\n",
       "DBE         51\n",
       "MIC         24\n",
       "HUD         13\n",
       "LOC         11\n",
       "NAP          8\n",
       "NON          1\n",
       "BLA          1\n",
       "DVB          1\n",
       "Name: Business Type, dtype: int64"
      ]
     },
     "execution_count": 212,
     "metadata": {},
     "output_type": "execute_result"
    }
   ],
   "source": [
    "business_type_count"
   ]
  },
  {
   "cell_type": "code",
   "execution_count": 213,
   "metadata": {
    "collapsed": false
   },
   "outputs": [
    {
     "data": {
      "image/png": "[encoded data removed]",
      "text/plain": [
       "<matplotlib.figure.Figure at 0x1125dae10>"
      ]
     },
     "metadata": {},
     "output_type": "display_data"
    }
   ],
   "source": [
    "y_pos = np.arange(len(business_type_keys))\n",
    "\n",
    "plt.barh(y_pos, business_type_count, alpha=0.4)\n",
    "plt.yticks(y_pos, business_type_keys)\n",
    "\n",
    "plt.show()"
   ]
  },
  {
   "cell_type": "markdown",
   "metadata": {},
   "source": [
    "## Where are the vendors from?"
   ]
  },
  {
   "cell_type": "code",
   "execution_count": 214,
   "metadata": {
    "collapsed": true
   },
   "outputs": [],
   "source": [
    "zip_code_count = pb['Zip'].value_counts()\n",
    "zip_code_keys = pb['Zip'].value_counts().keys()"
   ]
  },
  {
   "cell_type": "code",
   "execution_count": 215,
   "metadata": {
    "collapsed": false,
    "scrolled": true
   },
   "outputs": [
    {
     "data": {
      "text/plain": [
       "90807         21\n",
       "90813         17\n",
       "90755         14\n",
       "90670         12\n",
       "90802         12\n",
       "92806          9\n",
       "92618          9\n",
       "92647          8\n",
       "90640          7\n",
       "90248          7\n",
       "90071          7\n",
       "90805          7\n",
       "90720          6\n",
       "90808          6\n",
       "92821          6\n",
       "91352          5\n",
       "92660          5\n",
       "92705          5\n",
       "90815          5\n",
       "92841          5\n",
       "92801          5\n",
       "90706          5\n",
       "90502          5\n",
       "90245          5\n",
       "92867          5\n",
       "92614          5\n",
       "92011          4\n",
       "92870          4\n",
       "90630          4\n",
       "91762          4\n",
       "              ..\n",
       "95630          1\n",
       "85009          1\n",
       "90802-3037     1\n",
       "95361          1\n",
       "60515          1\n",
       "90501-3601     1\n",
       "92120          1\n",
       "95811          1\n",
       "91763          1\n",
       "8873           1\n",
       "92841-4166     1\n",
       "95841-7816     1\n",
       "18966          1\n",
       "11101          1\n",
       "90831          1\n",
       "94115-5555     1\n",
       "92081          1\n",
       "92869          1\n",
       "90734          1\n",
       "10591          1\n",
       "3844           1\n",
       "90731          1\n",
       "90048          1\n",
       "91304          1\n",
       "48152          1\n",
       "92427          1\n",
       "33549          1\n",
       "93291-9525     1\n",
       "91302          1\n",
       "92395          1\n",
       "Name: Zip, dtype: int64"
      ]
     },
     "execution_count": 215,
     "metadata": {},
     "output_type": "execute_result"
    }
   ],
   "source": [
    "zip_code_count"
   ]
  },
  {
   "cell_type": "markdown",
   "metadata": {
    "collapsed": true
   },
   "source": [
    "## Any trends in vendor registration over time?"
   ]
  },
  {
   "cell_type": "markdown",
   "metadata": {},
   "source": [
    "See external charts."
   ]
  },
  {
   "cell_type": "markdown",
   "metadata": {},
   "source": [
    "## Export data"
   ]
  },
  {
   "cell_type": "code",
   "execution_count": 216,
   "metadata": {
    "collapsed": true
   },
   "outputs": [],
   "source": [
    "pb.to_csv(\"exports/planet-bids-all.csv\")\n",
    "commodity_df.to_csv(\"exports/planet-bids-commodity.csv\")\n",
    "business_df.to_csv(\"exports/planet-bids-business.csv\")"
   ]
  },
  {
   "cell_type": "markdown",
   "metadata": {
    "collapsed": true
   },
   "source": [
    "## Sanity Check\n"
   ]
  },
  {
   "cell_type": "code",
   "execution_count": 217,
   "metadata": {
    "collapsed": false
   },
   "outputs": [
    {
     "name": "stdout",
     "output_type": "stream",
     "text": [
      "The original data frame has 1000 rows.\n"
     ]
    }
   ],
   "source": [
    "print 'The original data frame has ' + str(len(pb)) + ' rows.'"
   ]
  },
  {
   "cell_type": "markdown",
   "metadata": {},
   "source": [
    "How many Long Beach vendors identify themeselves by Commodity Code?"
   ]
  },
  {
   "cell_type": "code",
   "execution_count": 218,
   "metadata": {
    "collapsed": false
   },
   "outputs": [
    {
     "data": {
      "text/plain": [
       "132"
      ]
     },
     "execution_count": 218,
     "metadata": {},
     "output_type": "execute_result"
    }
   ],
   "source": [
    "len(commodity_df[commodity_df['In Long Beach?'] == True])"
   ]
  },
  {
   "cell_type": "markdown",
   "metadata": {},
   "source": [
    "Versus everyone outside the City?"
   ]
  },
  {
   "cell_type": "code",
   "execution_count": 219,
   "metadata": {
    "collapsed": false
   },
   "outputs": [
    {
     "data": {
      "text/plain": [
       "1427"
      ]
     },
     "execution_count": 219,
     "metadata": {},
     "output_type": "execute_result"
    }
   ],
   "source": [
    "len(commodity_df[commodity_df['In Long Beach?'] == False])"
   ]
  },
  {
   "cell_type": "code",
   "execution_count": null,
   "metadata": {
    "collapsed": true
   },
   "outputs": [],
   "source": []
  }
 ],
 "metadata": {
  "kernelspec": {
   "display_name": "Python 2",
   "language": "python",
   "name": "python2"
  },
  "language_info": {
   "codemirror_mode": {
    "name": "ipython",
    "version": 2
   },
   "file_extension": ".py",
   "mimetype": "text/x-python",
   "name": "python",
   "nbconvert_exporter": "python",
   "pygments_lexer": "ipython2",
   "version": "2.7.11"
  }
 },
 "nbformat": 4,
 "nbformat_minor": 0
}
